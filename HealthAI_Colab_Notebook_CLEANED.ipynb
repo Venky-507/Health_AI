{
 "cells": [
  {
   "cell_type": "markdown",
   "id": "5da83a18",
   "metadata": {
    "id": "5da83a18"
   },
   "source": [
    "# 🧠 HealthAI: Intelligent Healthcare Assistant in Google Colab"
   ]
  },
  {
   "cell_type": "code",
   "execution_count": null,
   "id": "d199ea61",
   "metadata": {
    "id": "d199ea61"
   },
   "outputs": [],
   "source": [
    "!pip install transformers gradio plotly pandas scikit-learn --quiet"
   ]
  },
  {
   "cell_type": "code",
   "execution_count": null,
   "id": "9351c37e",
   "metadata": {
    "colab": {
     "base_uri": "https://localhost:8080/",
     "height": 575,
     "referenced_widgets": [
      "10ed601586bb47119186d6109f09dbf7",
      "97b679fe79ce422c89867a855fcb41f4",
      "2cb24b75fe6b4c69a8a2b40396f0e4ac",
      "5860a08c7d3d41db8982ea42927d769f",
      "4648c87febb8465cbd206d3d68b130f2",
      "c93dc51cdd134aaaa8491d7071f5d104",
      "40d335b9f856437290bffaf16f0eb158",
      "28eff65ea4ec470d9c36b5a4289912ee",
      "507c3307e9c04b8986aedfc97ae878e9",
      "35598687e218477396738fa0d391f4b6",
      "f985752252734cbb8098fd2fb117bbb6",
      "15f77d9a95c841c79ba94b4f9d1bd820",
      "193d241347a646d7a1399ef8c2731573",
      "eef9965c5f1241dfa796ab9666d01818",
      "bfce450937e047708e633e516e134e1c",
      "8dc8f682249a4bd8b54ec4fd873bb4e6",
      "6f0b9048a86c4f368bf7c81cd8e74964",
      "013f88858d0146acaa369017b75d7805",
      "2f80d5afc3834c8e979cc51ffacd7c4b",
      "cdfc5c14be2d4516a2098aa520bd1bbf",
      "8b91060d783c4450bad93053bd3da86f",
      "c78c55303c844002a44e6138767565f3",
      "b6919ce7c5a145d0b32a2b9b9c431e60",
      "813f2d3059e042d69be639fe259e94dc",
      "97cde727a9f9460897dd2efd7491792d",
      "5db794ecdb99451c9a966ebf7f880ec1",
      "7cb4e60d69574c018fb81805d7ef8a3b",
      "7dad2df0c2a9466c98ddc5a58d0f1020",
      "b63a4e79c27f432aafb240b744fb8763",
      "1c85ac6af92946018006adde0a3f34fe",
      "b58bef9baff548a0b9a65fa18b217e40",
      "2709730eb68e439d97d58d136ac516ee",
      "e221bf34cc884ae09b10d3cf94473a3c",
      "dc14a9bd34324e06b2026acd188d9eec",
      "4bf30268dd894244825480f7080f4faa",
      "78bb2171607a443a870ad97959c6ee8e",
      "4de1976da4f1425bbbcaed228ace7cdc",
      "40902542a9834387b5eaa3e9ddc9cba5",
      "fdaae1a6ee5d4afa916c3b39aa4d255e",
      "307d84ecbc8948cf9500a0293e1d4fbd",
      "6299e15d1c454b0cb3d26b90f69c11ea",
      "3ed3228b60fb4a2a9641c8635129775d",
      "4cdbfdd78aa24689a93665b1b3679d13",
      "e656367ee0b94bb79b3e154cc88097ba",
      "d9fd8bacc7844fb8b2eaa9cffd8cecc2",
      "8de2380a7796408cae95ec355fba3b86",
      "ce091d0c10df4dc18aca5cd43ea38320",
      "93853d7f664243389a26d5e352b05b97",
      "60e7faf52e82461faed477adfc92825d",
      "27291ea25bbc424eb2cd6cbb99c646c1",
      "3e39cfc7df0f466a9c4ccb6990d3e6a0",
      "de5f8bce826840dfa617464011ffb58b",
      "cbf0157a83d649da8ddacd18f623ca13",
      "a198f592b7104653b96938999df0f135",
      "28f7d8196e30430e86307a87844d02eb",
      "e4bbe2653c334fbf927cda894027b79e",
      "587da1897e064241a9e4b32430ada33b",
      "e14e4fdfa2bf433d87bfc0f6963a757c",
      "bf611404b15b4ac6bede18219cf00ae8",
      "b022e6e23b9a4389909b6c1d7150a59f",
      "83304d1e28fc46bc9efebb5f8dfd5b47",
      "f7013ce19e96411ab69dfa36011a9241",
      "6579720638444e729ac6cccfce0273a7",
      "06b597ff513a4795819f012980076a96",
      "fff8eed6dbb04b4caae9a972fc902ad0",
      "ca3dcdf7a38e449e853acd7f425cb982",
      "23c583c845e540458c550e769f84f6be",
      "08aeecd9caa94882962ce3d49848c096",
      "d2d3fe3adfa945dbbad2f24188a0713c",
      "c913494aef994019a4a021f353da7c13",
      "73833d29677b4aa6a488d3b12d69269f",
      "acd1f6ac5f7f4e7dbf42a20dbe37192c",
      "13c827e03c0b4e119fa522d8cd4ff194",
      "e8fc6cb5c71e46aaadad9bfbc94d226c",
      "00fd5358c575441ab276e3359e2da7c2",
      "790d0bf34dcd4170b2495f01472a121e",
      "75eb22e7315e47db9c34d963b9da1755",
      "b0ba2673aacd43139679cca75f42dbad",
      "6a47c11359294529aa595dbecb0a27bf",
      "557a8ea7d9ec42d08677459d3a680a81",
      "ab8b7ef3466b4e34a0b6a4cdef3c8328",
      "a03ab29be5704a01ad9e76d88876e55f",
      "00a08bc198fe47209a48038062eb1813",
      "c1743f49c2034c41add987d27b6bb3d2",
      "9282d655ddf64d6d9f533c14d9964b1c",
      "c1fff26d25d64a2ba6a58cddebcb83cb",
      "36f919dee15c444788897d7d30e30f2b",
      "423440d3c302407280e7a944b887982d",
      "51193c10398a45a294b4d2fcc98008b3",
      "8a3f9a786cfa49369ad4b419cac69416",
      "47adb70a435740baa3f79af059d63981",
      "9780bcc6c649485f94e1d6f314d45891",
      "80b4c2c9481c4f419eab90abc104550d",
      "8cf41a05c434483e947f490afd10e13e",
      "9c4b4ee4dc4c4c239b247fe974448fa0",
      "4704bcafad3040c7a4ada6c71f64945b",
      "97c39fa135e9405b93f994d3d5ea46c4",
      "60714d349b9a4b4bb9c1bf398e6075a4",
      "f6dc0c9f885749ac826944db81ba1fb2",
      "1145e367ae8b409bab25509bb36e7d28",
      "888c00fff82d41ebb95a6b4b9d3ead80",
      "f6d697fafeae4ae39a1f08f317c1e79b",
      "24088f4a746d4578ac6762827440fb43",
      "2b2d8ab95d1e4c6d80ea9c5e166ef624",
      "1a4c56778cd247bbadd5a5a0b549253b",
      "9c0927ecc25648b7a9eb551db1ff8a5a",
      "7d9f3c7abf46438f91a1952ecc00e0af",
      "418f04079d6d443ab96b367396d621a7",
      "d65dbdc8955442ce9171a9bb0926a1a6",
      "fea4def6fcd4431eb6248ebcb6885521",
      "1cb811d2ad834642ac05f22d0eae1072",
      "15b712d9b8ea4f4594cabcf0ed735b92",
      "89e59faee55e4a389870d2d23ecdd81d",
      "bb7abea3a1d441b78b88813f89c6870e",
      "8ccc895fb77c415e813b9cd56d70d637",
      "23b160ad28b247b18e857e4373c8b664",
      "84aafffd37194e0280dc67cba57b090b",
      "23587cb4dfcc42de918a013f760b6239",
      "701e829c5b784a2582e6cdcc335af54c",
      "8956ab0bc9714dd9b2047a1840fcb991",
      "360ae019472c45eaa167a8f95356de72",
      "48a14a4eac3447b0b69ead289a36fadb",
      "c999caa3de224b398a0099911836d682",
      "aedb54044a784448b22ece1dc56b80e3",
      "adb2c4cd61d746dc833008bb4b4b6526",
      "0eb6b3a2eae14252a6556c6c4d4b24c9",
      "a8b416742ea34067bdffb6c5d17ce8ea",
      "e1ccaf200c23467faf0cd887243060ef",
      "53377f3a7fba41b7892efbfc056cb9e3",
      "c547caf19d504b5cad3e9c100fbb0a05",
      "b648780f1cd040c18d817e3790c914f2",
      "332d48ef1471452c8b7c7ca5dae05611",
      "a23eedff46104cff979b9629ac355724",
      "3dde77018fe94ead9a6121679bdc6d14",
      "46355aab288b4e07a3e04b6f6e55c26c",
      "f4c2241b411e448fafdaaf6e88f18470",
      "eafa36da47dc445d833766b7f7afa770",
      "47ba6ac5c5924a2890a6d27575a6695e",
      "4fadd654b8ca47419c3c3e4e5308ebd4",
      "3be0e072facf4250afa8c0cd7decab90",
      "11ab6e6452064b21b0543f7a9a079fd0",
      "52f2b810d34045dd8becac2c7addae82",
      "1a37c3ac7fca40e3a0bb154dc14da2b7"
     ]
    },
    "id": "9351c37e",
    "outputId": "082dfd15-958b-4595-d9f5-7d3f55b3a23d"
   },
   "outputs": [
    {
     "name": "stderr",
     "output_type": "stream",
     "text": [
      "/usr/local/lib/python3.11/dist-packages/huggingface_hub/utils/_auth.py:94: UserWarning: \n",
      "The secret `HF_TOKEN` does not exist in your Colab secrets.\n",
      "To authenticate with the Hugging Face Hub, create a token in your settings tab (https://huggingface.co/settings/tokens), set it as secret in your Google Colab and restart your session.\n",
      "You will be able to reuse this secret in all of your notebooks.\n",
      "Please note that authentication is recommended but still optional to access public models or datasets.\n",
      "  warnings.warn(\n"
     ]
    },
    {
     "data": {
      "application/vnd.jupyter.widget-view+json": {
       "model_id": "10ed601586bb47119186d6109f09dbf7",
       "version_major": 2,
       "version_minor": 0
      },
      "text/plain": [
       "tokenizer_config.json:   0%|          | 0.00/9.93k [00:00<?, ?B/s]"
      ]
     },
     "metadata": {},
     "output_type": "display_data"
    },
    {
     "data": {
      "application/vnd.jupyter.widget-view+json": {
       "model_id": "15f77d9a95c841c79ba94b4f9d1bd820",
       "version_major": 2,
       "version_minor": 0
      },
      "text/plain": [
       "vocab.json:   0%|          | 0.00/777k [00:00<?, ?B/s]"
      ]
     },
     "metadata": {},
     "output_type": "display_data"
    },
    {
     "data": {
      "application/vnd.jupyter.widget-view+json": {
       "model_id": "b6919ce7c5a145d0b32a2b9b9c431e60",
       "version_major": 2,
       "version_minor": 0
      },
      "text/plain": [
       "merges.txt:   0%|          | 0.00/442k [00:00<?, ?B/s]"
      ]
     },
     "metadata": {},
     "output_type": "display_data"
    },
    {
     "data": {
      "application/vnd.jupyter.widget-view+json": {
       "model_id": "dc14a9bd34324e06b2026acd188d9eec",
       "version_major": 2,
       "version_minor": 0
      },
      "text/plain": [
       "tokenizer.json:   0%|          | 0.00/3.48M [00:00<?, ?B/s]"
      ]
     },
     "metadata": {},
     "output_type": "display_data"
    },
    {
     "data": {
      "application/vnd.jupyter.widget-view+json": {
       "model_id": "d9fd8bacc7844fb8b2eaa9cffd8cecc2",
       "version_major": 2,
       "version_minor": 0
      },
      "text/plain": [
       "added_tokens.json:   0%|          | 0.00/207 [00:00<?, ?B/s]"
      ]
     },
     "metadata": {},
     "output_type": "display_data"
    },
    {
     "data": {
      "application/vnd.jupyter.widget-view+json": {
       "model_id": "e4bbe2653c334fbf927cda894027b79e",
       "version_major": 2,
       "version_minor": 0
      },
      "text/plain": [
       "special_tokens_map.json:   0%|          | 0.00/801 [00:00<?, ?B/s]"
      ]
     },
     "metadata": {},
     "output_type": "display_data"
    },
    {
     "data": {
      "application/vnd.jupyter.widget-view+json": {
       "model_id": "23c583c845e540458c550e769f84f6be",
       "version_major": 2,
       "version_minor": 0
      },
      "text/plain": [
       "config.json:   0%|          | 0.00/787 [00:00<?, ?B/s]"
      ]
     },
     "metadata": {},
     "output_type": "display_data"
    },
    {
     "data": {
      "application/vnd.jupyter.widget-view+json": {
       "model_id": "b0ba2673aacd43139679cca75f42dbad",
       "version_major": 2,
       "version_minor": 0
      },
      "text/plain": [
       "model.safetensors.index.json:   0%|          | 0.00/29.8k [00:00<?, ?B/s]"
      ]
     },
     "metadata": {},
     "output_type": "display_data"
    },
    {
     "data": {
      "application/vnd.jupyter.widget-view+json": {
       "model_id": "51193c10398a45a294b4d2fcc98008b3",
       "version_major": 2,
       "version_minor": 0
      },
      "text/plain": [
       "Fetching 2 files:   0%|          | 0/2 [00:00<?, ?it/s]"
      ]
     },
     "metadata": {},
     "output_type": "display_data"
    },
    {
     "data": {
      "application/vnd.jupyter.widget-view+json": {
       "model_id": "1145e367ae8b409bab25509bb36e7d28",
       "version_major": 2,
       "version_minor": 0
      },
      "text/plain": [
       "model-00001-of-00002.safetensors:   0%|          | 0.00/5.00G [00:00<?, ?B/s]"
      ]
     },
     "metadata": {},
     "output_type": "display_data"
    },
    {
     "data": {
      "application/vnd.jupyter.widget-view+json": {
       "model_id": "1cb811d2ad834642ac05f22d0eae1072",
       "version_major": 2,
       "version_minor": 0
      },
      "text/plain": [
       "model-00002-of-00002.safetensors:   0%|          | 0.00/67.1M [00:00<?, ?B/s]"
      ]
     },
     "metadata": {},
     "output_type": "display_data"
    },
    {
     "data": {
      "application/vnd.jupyter.widget-view+json": {
       "model_id": "48a14a4eac3447b0b69ead289a36fadb",
       "version_major": 2,
       "version_minor": 0
      },
      "text/plain": [
       "Loading checkpoint shards:   0%|          | 0/2 [00:00<?, ?it/s]"
      ]
     },
     "metadata": {},
     "output_type": "display_data"
    },
    {
     "data": {
      "application/vnd.jupyter.widget-view+json": {
       "model_id": "a23eedff46104cff979b9629ac355724",
       "version_major": 2,
       "version_minor": 0
      },
      "text/plain": [
       "generation_config.json:   0%|          | 0.00/132 [00:00<?, ?B/s]"
      ]
     },
     "metadata": {},
     "output_type": "display_data"
    },
    {
     "name": "stderr",
     "output_type": "stream",
     "text": [
      "Device set to use cuda:0\n"
     ]
    }
   ],
   "source": [
    "\n",
    "from transformers import AutoTokenizer, AutoModelForCausalLM, pipeline\n",
    "\n",
    "model_id = \"ibm-granite/granite-3.3-2b-instruct\"\n",
    "\n",
    "tokenizer = AutoTokenizer.from_pretrained(model_id)\n",
    "model = AutoModelForCausalLM.from_pretrained(model_id, device_map=\"auto\", torch_dtype=\"auto\")\n",
    "\n",
    "health_bot = pipeline(\"text-generation\", model=model, tokenizer=tokenizer)\n"
   ]
  },
  {
   "cell_type": "code",
   "execution_count": null,
   "id": "d8ac9ef6",
   "metadata": {
    "id": "d8ac9ef6"
   },
   "outputs": [],
   "source": [
    "\n",
    "def patient_chat(query):\n",
    "    try:\n",
    "        prompt = f\"You are a kind and knowledgeable virtual medical assistant.\\nUser: {query}\\nAssistant:\"\n",
    "        result = health_bot(prompt, max_new_tokens=200, temperature=0.7)\n",
    "        return result[0]['generated_text']\n",
    "    except Exception as e:\n",
    "        return f\"❌ Chat Error: {str(e)}\"\n"
   ]
  },
  {
   "cell_type": "code",
   "execution_count": null,
   "id": "8f521cde",
   "metadata": {
    "colab": {
     "base_uri": "https://localhost:8080/",
     "height": 184
    },
    "id": "8f521cde",
    "outputId": "92a81885-49b8-4351-ae88-3377ec83a4e3"
   },
   "outputs": [
    {
     "name": "stdout",
     "output_type": "stream",
     "text": [
      "   Cough  Fatigue  Fever  Headache  Nausea  Shortness of Breath  Sore Throat\n",
      "0      0        1      0         1       1                    1            1\n",
      "1      0        0      0         1       1                    1            1\n",
      "2      0        0      0         0       0                    0            1\n",
      "3      1        0      0         0       0                    0            0\n",
      "4      0        0      0         0       0                    0            1\n"
     ]
    },
    {
     "data": {
      "text/html": [
       "<style>#sk-container-id-2 {\n",
       "  /* Definition of color scheme common for light and dark mode */\n",
       "  --sklearn-color-text: #000;\n",
       "  --sklearn-color-text-muted: #666;\n",
       "  --sklearn-color-line: gray;\n",
       "  /* Definition of color scheme for unfitted estimators */\n",
       "  --sklearn-color-unfitted-level-0: #fff5e6;\n",
       "  --sklearn-color-unfitted-level-1: #f6e4d2;\n",
       "  --sklearn-color-unfitted-level-2: #ffe0b3;\n",
       "  --sklearn-color-unfitted-level-3: chocolate;\n",
       "  /* Definition of color scheme for fitted estimators */\n",
       "  --sklearn-color-fitted-level-0: #f0f8ff;\n",
       "  --sklearn-color-fitted-level-1: #d4ebff;\n",
       "  --sklearn-color-fitted-level-2: #b3dbfd;\n",
       "  --sklearn-color-fitted-level-3: cornflowerblue;\n",
       "\n",
       "  /* Specific color for light theme */\n",
       "  --sklearn-color-text-on-default-background: var(--sg-text-color, var(--theme-code-foreground, var(--jp-content-font-color1, black)));\n",
       "  --sklearn-color-background: var(--sg-background-color, var(--theme-background, var(--jp-layout-color0, white)));\n",
       "  --sklearn-color-border-box: var(--sg-text-color, var(--theme-code-foreground, var(--jp-content-font-color1, black)));\n",
       "  --sklearn-color-icon: #696969;\n",
       "\n",
       "  @media (prefers-color-scheme: dark) {\n",
       "    /* Redefinition of color scheme for dark theme */\n",
       "    --sklearn-color-text-on-default-background: var(--sg-text-color, var(--theme-code-foreground, var(--jp-content-font-color1, white)));\n",
       "    --sklearn-color-background: var(--sg-background-color, var(--theme-background, var(--jp-layout-color0, #111)));\n",
       "    --sklearn-color-border-box: var(--sg-text-color, var(--theme-code-foreground, var(--jp-content-font-color1, white)));\n",
       "    --sklearn-color-icon: #878787;\n",
       "  }\n",
       "}\n",
       "\n",
       "#sk-container-id-2 {\n",
       "  color: var(--sklearn-color-text);\n",
       "}\n",
       "\n",
       "#sk-container-id-2 pre {\n",
       "  padding: 0;\n",
       "}\n",
       "\n",
       "#sk-container-id-2 input.sk-hidden--visually {\n",
       "  border: 0;\n",
       "  clip: rect(1px 1px 1px 1px);\n",
       "  clip: rect(1px, 1px, 1px, 1px);\n",
       "  height: 1px;\n",
       "  margin: -1px;\n",
       "  overflow: hidden;\n",
       "  padding: 0;\n",
       "  position: absolute;\n",
       "  width: 1px;\n",
       "}\n",
       "\n",
       "#sk-container-id-2 div.sk-dashed-wrapped {\n",
       "  border: 1px dashed var(--sklearn-color-line);\n",
       "  margin: 0 0.4em 0.5em 0.4em;\n",
       "  box-sizing: border-box;\n",
       "  padding-bottom: 0.4em;\n",
       "  background-color: var(--sklearn-color-background);\n",
       "}\n",
       "\n",
       "#sk-container-id-2 div.sk-container {\n",
       "  /* jupyter's `normalize.less` sets `[hidden] { display: none; }`\n",
       "     but bootstrap.min.css set `[hidden] { display: none !important; }`\n",
       "     so we also need the `!important` here to be able to override the\n",
       "     default hidden behavior on the sphinx rendered scikit-learn.org.\n",
       "     See: https://github.com/scikit-learn/scikit-learn/issues/21755 */\n",
       "  display: inline-block !important;\n",
       "  position: relative;\n",
       "}\n",
       "\n",
       "#sk-container-id-2 div.sk-text-repr-fallback {\n",
       "  display: none;\n",
       "}\n",
       "\n",
       "div.sk-parallel-item,\n",
       "div.sk-serial,\n",
       "div.sk-item {\n",
       "  /* draw centered vertical line to link estimators */\n",
       "  background-image: linear-gradient(var(--sklearn-color-text-on-default-background), var(--sklearn-color-text-on-default-background));\n",
       "  background-size: 2px 100%;\n",
       "  background-repeat: no-repeat;\n",
       "  background-position: center center;\n",
       "}\n",
       "\n",
       "/* Parallel-specific style estimator block */\n",
       "\n",
       "#sk-container-id-2 div.sk-parallel-item::after {\n",
       "  content: \"\";\n",
       "  width: 100%;\n",
       "  border-bottom: 2px solid var(--sklearn-color-text-on-default-background);\n",
       "  flex-grow: 1;\n",
       "}\n",
       "\n",
       "#sk-container-id-2 div.sk-parallel {\n",
       "  display: flex;\n",
       "  align-items: stretch;\n",
       "  justify-content: center;\n",
       "  background-color: var(--sklearn-color-background);\n",
       "  position: relative;\n",
       "}\n",
       "\n",
       "#sk-container-id-2 div.sk-parallel-item {\n",
       "  display: flex;\n",
       "  flex-direction: column;\n",
       "}\n",
       "\n",
       "#sk-container-id-2 div.sk-parallel-item:first-child::after {\n",
       "  align-self: flex-end;\n",
       "  width: 50%;\n",
       "}\n",
       "\n",
       "#sk-container-id-2 div.sk-parallel-item:last-child::after {\n",
       "  align-self: flex-start;\n",
       "  width: 50%;\n",
       "}\n",
       "\n",
       "#sk-container-id-2 div.sk-parallel-item:only-child::after {\n",
       "  width: 0;\n",
       "}\n",
       "\n",
       "/* Serial-specific style estimator block */\n",
       "\n",
       "#sk-container-id-2 div.sk-serial {\n",
       "  display: flex;\n",
       "  flex-direction: column;\n",
       "  align-items: center;\n",
       "  background-color: var(--sklearn-color-background);\n",
       "  padding-right: 1em;\n",
       "  padding-left: 1em;\n",
       "}\n",
       "\n",
       "\n",
       "/* Toggleable style: style used for estimator/Pipeline/ColumnTransformer box that is\n",
       "clickable and can be expanded/collapsed.\n",
       "- Pipeline and ColumnTransformer use this feature and define the default style\n",
       "- Estimators will overwrite some part of the style using the `sk-estimator` class\n",
       "*/\n",
       "\n",
       "/* Pipeline and ColumnTransformer style (default) */\n",
       "\n",
       "#sk-container-id-2 div.sk-toggleable {\n",
       "  /* Default theme specific background. It is overwritten whether we have a\n",
       "  specific estimator or a Pipeline/ColumnTransformer */\n",
       "  background-color: var(--sklearn-color-background);\n",
       "}\n",
       "\n",
       "/* Toggleable label */\n",
       "#sk-container-id-2 label.sk-toggleable__label {\n",
       "  cursor: pointer;\n",
       "  display: flex;\n",
       "  width: 100%;\n",
       "  margin-bottom: 0;\n",
       "  padding: 0.5em;\n",
       "  box-sizing: border-box;\n",
       "  text-align: center;\n",
       "  align-items: start;\n",
       "  justify-content: space-between;\n",
       "  gap: 0.5em;\n",
       "}\n",
       "\n",
       "#sk-container-id-2 label.sk-toggleable__label .caption {\n",
       "  font-size: 0.6rem;\n",
       "  font-weight: lighter;\n",
       "  color: var(--sklearn-color-text-muted);\n",
       "}\n",
       "\n",
       "#sk-container-id-2 label.sk-toggleable__label-arrow:before {\n",
       "  /* Arrow on the left of the label */\n",
       "  content: \"▸\";\n",
       "  float: left;\n",
       "  margin-right: 0.25em;\n",
       "  color: var(--sklearn-color-icon);\n",
       "}\n",
       "\n",
       "#sk-container-id-2 label.sk-toggleable__label-arrow:hover:before {\n",
       "  color: var(--sklearn-color-text);\n",
       "}\n",
       "\n",
       "/* Toggleable content - dropdown */\n",
       "\n",
       "#sk-container-id-2 div.sk-toggleable__content {\n",
       "  max-height: 0;\n",
       "  max-width: 0;\n",
       "  overflow: hidden;\n",
       "  text-align: left;\n",
       "  /* unfitted */\n",
       "  background-color: var(--sklearn-color-unfitted-level-0);\n",
       "}\n",
       "\n",
       "#sk-container-id-2 div.sk-toggleable__content.fitted {\n",
       "  /* fitted */\n",
       "  background-color: var(--sklearn-color-fitted-level-0);\n",
       "}\n",
       "\n",
       "#sk-container-id-2 div.sk-toggleable__content pre {\n",
       "  margin: 0.2em;\n",
       "  border-radius: 0.25em;\n",
       "  color: var(--sklearn-color-text);\n",
       "  /* unfitted */\n",
       "  background-color: var(--sklearn-color-unfitted-level-0);\n",
       "}\n",
       "\n",
       "#sk-container-id-2 div.sk-toggleable__content.fitted pre {\n",
       "  /* unfitted */\n",
       "  background-color: var(--sklearn-color-fitted-level-0);\n",
       "}\n",
       "\n",
       "#sk-container-id-2 input.sk-toggleable__control:checked~div.sk-toggleable__content {\n",
       "  /* Expand drop-down */\n",
       "  max-height: 200px;\n",
       "  max-width: 100%;\n",
       "  overflow: auto;\n",
       "}\n",
       "\n",
       "#sk-container-id-2 input.sk-toggleable__control:checked~label.sk-toggleable__label-arrow:before {\n",
       "  content: \"▾\";\n",
       "}\n",
       "\n",
       "/* Pipeline/ColumnTransformer-specific style */\n",
       "\n",
       "#sk-container-id-2 div.sk-label input.sk-toggleable__control:checked~label.sk-toggleable__label {\n",
       "  color: var(--sklearn-color-text);\n",
       "  background-color: var(--sklearn-color-unfitted-level-2);\n",
       "}\n",
       "\n",
       "#sk-container-id-2 div.sk-label.fitted input.sk-toggleable__control:checked~label.sk-toggleable__label {\n",
       "  background-color: var(--sklearn-color-fitted-level-2);\n",
       "}\n",
       "\n",
       "/* Estimator-specific style */\n",
       "\n",
       "/* Colorize estimator box */\n",
       "#sk-container-id-2 div.sk-estimator input.sk-toggleable__control:checked~label.sk-toggleable__label {\n",
       "  /* unfitted */\n",
       "  background-color: var(--sklearn-color-unfitted-level-2);\n",
       "}\n",
       "\n",
       "#sk-container-id-2 div.sk-estimator.fitted input.sk-toggleable__control:checked~label.sk-toggleable__label {\n",
       "  /* fitted */\n",
       "  background-color: var(--sklearn-color-fitted-level-2);\n",
       "}\n",
       "\n",
       "#sk-container-id-2 div.sk-label label.sk-toggleable__label,\n",
       "#sk-container-id-2 div.sk-label label {\n",
       "  /* The background is the default theme color */\n",
       "  color: var(--sklearn-color-text-on-default-background);\n",
       "}\n",
       "\n",
       "/* On hover, darken the color of the background */\n",
       "#sk-container-id-2 div.sk-label:hover label.sk-toggleable__label {\n",
       "  color: var(--sklearn-color-text);\n",
       "  background-color: var(--sklearn-color-unfitted-level-2);\n",
       "}\n",
       "\n",
       "/* Label box, darken color on hover, fitted */\n",
       "#sk-container-id-2 div.sk-label.fitted:hover label.sk-toggleable__label.fitted {\n",
       "  color: var(--sklearn-color-text);\n",
       "  background-color: var(--sklearn-color-fitted-level-2);\n",
       "}\n",
       "\n",
       "/* Estimator label */\n",
       "\n",
       "#sk-container-id-2 div.sk-label label {\n",
       "  font-family: monospace;\n",
       "  font-weight: bold;\n",
       "  display: inline-block;\n",
       "  line-height: 1.2em;\n",
       "}\n",
       "\n",
       "#sk-container-id-2 div.sk-label-container {\n",
       "  text-align: center;\n",
       "}\n",
       "\n",
       "/* Estimator-specific */\n",
       "#sk-container-id-2 div.sk-estimator {\n",
       "  font-family: monospace;\n",
       "  border: 1px dotted var(--sklearn-color-border-box);\n",
       "  border-radius: 0.25em;\n",
       "  box-sizing: border-box;\n",
       "  margin-bottom: 0.5em;\n",
       "  /* unfitted */\n",
       "  background-color: var(--sklearn-color-unfitted-level-0);\n",
       "}\n",
       "\n",
       "#sk-container-id-2 div.sk-estimator.fitted {\n",
       "  /* fitted */\n",
       "  background-color: var(--sklearn-color-fitted-level-0);\n",
       "}\n",
       "\n",
       "/* on hover */\n",
       "#sk-container-id-2 div.sk-estimator:hover {\n",
       "  /* unfitted */\n",
       "  background-color: var(--sklearn-color-unfitted-level-2);\n",
       "}\n",
       "\n",
       "#sk-container-id-2 div.sk-estimator.fitted:hover {\n",
       "  /* fitted */\n",
       "  background-color: var(--sklearn-color-fitted-level-2);\n",
       "}\n",
       "\n",
       "/* Specification for estimator info (e.g. \"i\" and \"?\") */\n",
       "\n",
       "/* Common style for \"i\" and \"?\" */\n",
       "\n",
       ".sk-estimator-doc-link,\n",
       "a:link.sk-estimator-doc-link,\n",
       "a:visited.sk-estimator-doc-link {\n",
       "  float: right;\n",
       "  font-size: smaller;\n",
       "  line-height: 1em;\n",
       "  font-family: monospace;\n",
       "  background-color: var(--sklearn-color-background);\n",
       "  border-radius: 1em;\n",
       "  height: 1em;\n",
       "  width: 1em;\n",
       "  text-decoration: none !important;\n",
       "  margin-left: 0.5em;\n",
       "  text-align: center;\n",
       "  /* unfitted */\n",
       "  border: var(--sklearn-color-unfitted-level-1) 1pt solid;\n",
       "  color: var(--sklearn-color-unfitted-level-1);\n",
       "}\n",
       "\n",
       ".sk-estimator-doc-link.fitted,\n",
       "a:link.sk-estimator-doc-link.fitted,\n",
       "a:visited.sk-estimator-doc-link.fitted {\n",
       "  /* fitted */\n",
       "  border: var(--sklearn-color-fitted-level-1) 1pt solid;\n",
       "  color: var(--sklearn-color-fitted-level-1);\n",
       "}\n",
       "\n",
       "/* On hover */\n",
       "div.sk-estimator:hover .sk-estimator-doc-link:hover,\n",
       ".sk-estimator-doc-link:hover,\n",
       "div.sk-label-container:hover .sk-estimator-doc-link:hover,\n",
       ".sk-estimator-doc-link:hover {\n",
       "  /* unfitted */\n",
       "  background-color: var(--sklearn-color-unfitted-level-3);\n",
       "  color: var(--sklearn-color-background);\n",
       "  text-decoration: none;\n",
       "}\n",
       "\n",
       "div.sk-estimator.fitted:hover .sk-estimator-doc-link.fitted:hover,\n",
       ".sk-estimator-doc-link.fitted:hover,\n",
       "div.sk-label-container:hover .sk-estimator-doc-link.fitted:hover,\n",
       ".sk-estimator-doc-link.fitted:hover {\n",
       "  /* fitted */\n",
       "  background-color: var(--sklearn-color-fitted-level-3);\n",
       "  color: var(--sklearn-color-background);\n",
       "  text-decoration: none;\n",
       "}\n",
       "\n",
       "/* Span, style for the box shown on hovering the info icon */\n",
       ".sk-estimator-doc-link span {\n",
       "  display: none;\n",
       "  z-index: 9999;\n",
       "  position: relative;\n",
       "  font-weight: normal;\n",
       "  right: .2ex;\n",
       "  padding: .5ex;\n",
       "  margin: .5ex;\n",
       "  width: min-content;\n",
       "  min-width: 20ex;\n",
       "  max-width: 50ex;\n",
       "  color: var(--sklearn-color-text);\n",
       "  box-shadow: 2pt 2pt 4pt #999;\n",
       "  /* unfitted */\n",
       "  background: var(--sklearn-color-unfitted-level-0);\n",
       "  border: .5pt solid var(--sklearn-color-unfitted-level-3);\n",
       "}\n",
       "\n",
       ".sk-estimator-doc-link.fitted span {\n",
       "  /* fitted */\n",
       "  background: var(--sklearn-color-fitted-level-0);\n",
       "  border: var(--sklearn-color-fitted-level-3);\n",
       "}\n",
       "\n",
       ".sk-estimator-doc-link:hover span {\n",
       "  display: block;\n",
       "}\n",
       "\n",
       "/* \"?\"-specific style due to the `<a>` HTML tag */\n",
       "\n",
       "#sk-container-id-2 a.estimator_doc_link {\n",
       "  float: right;\n",
       "  font-size: 1rem;\n",
       "  line-height: 1em;\n",
       "  font-family: monospace;\n",
       "  background-color: var(--sklearn-color-background);\n",
       "  border-radius: 1rem;\n",
       "  height: 1rem;\n",
       "  width: 1rem;\n",
       "  text-decoration: none;\n",
       "  /* unfitted */\n",
       "  color: var(--sklearn-color-unfitted-level-1);\n",
       "  border: var(--sklearn-color-unfitted-level-1) 1pt solid;\n",
       "}\n",
       "\n",
       "#sk-container-id-2 a.estimator_doc_link.fitted {\n",
       "  /* fitted */\n",
       "  border: var(--sklearn-color-fitted-level-1) 1pt solid;\n",
       "  color: var(--sklearn-color-fitted-level-1);\n",
       "}\n",
       "\n",
       "/* On hover */\n",
       "#sk-container-id-2 a.estimator_doc_link:hover {\n",
       "  /* unfitted */\n",
       "  background-color: var(--sklearn-color-unfitted-level-3);\n",
       "  color: var(--sklearn-color-background);\n",
       "  text-decoration: none;\n",
       "}\n",
       "\n",
       "#sk-container-id-2 a.estimator_doc_link.fitted:hover {\n",
       "  /* fitted */\n",
       "  background-color: var(--sklearn-color-fitted-level-3);\n",
       "}\n",
       "</style><div id=\"sk-container-id-2\" class=\"sk-top-container\"><div class=\"sk-text-repr-fallback\"><pre>RandomForestClassifier()</pre><b>In a Jupyter environment, please rerun this cell to show the HTML representation or trust the notebook. <br />On GitHub, the HTML representation is unable to render, please try loading this page with nbviewer.org.</b></div><div class=\"sk-container\" hidden><div class=\"sk-item\"><div class=\"sk-estimator fitted sk-toggleable\"><input class=\"sk-toggleable__control sk-hidden--visually\" id=\"sk-estimator-id-2\" type=\"checkbox\" checked><label for=\"sk-estimator-id-2\" class=\"sk-toggleable__label fitted sk-toggleable__label-arrow\"><div><div>RandomForestClassifier</div></div><div><a class=\"sk-estimator-doc-link fitted\" rel=\"noreferrer\" target=\"_blank\" href=\"https://scikit-learn.org/1.6/modules/generated/sklearn.ensemble.RandomForestClassifier.html\">?<span>Documentation for RandomForestClassifier</span></a><span class=\"sk-estimator-doc-link fitted\">i<span>Fitted</span></span></div></label><div class=\"sk-toggleable__content fitted\"><pre>RandomForestClassifier()</pre></div> </div></div></div></div>"
      ],
      "text/plain": [
       "RandomForestClassifier()"
      ]
     },
     "execution_count": 11,
     "metadata": {},
     "output_type": "execute_result"
    }
   ],
   "source": [
    "import pandas as pd\n",
    "from sklearn.ensemble import RandomForestClassifier\n",
    "from sklearn.model_selection import train_test_split\n",
    "\n",
    "df = pd.read_csv(\"/content/symptoms_disease_dataset.csv\")\n",
    "\n",
    "# Split the 'Symptoms' column into individual symptom strings\n",
    "df['Symptoms'] = df['Symptoms'].str.split(', ')\n",
    "\n",
    "# Create a list of all unique symptoms\n",
    "all_symptoms = sorted(list(set([item for sublist in df['Symptoms'] for item in sublist])))\n",
    "\n",
    "# Create new columns for each symptom, with 1 if present and 0 if not\n",
    "for symptom in all_symptoms:\n",
    "    df[symptom] = df['Symptoms'].apply(lambda x: 1 if symptom in x else 0)\n",
    "\n",
    "# Now X will contain the one-hot encoded symptom columns, and y remains the 'Disease' column\n",
    "X = df[all_symptoms]\n",
    "y = df[\"Disease\"]\n",
    "\n",
    "# Check the first few rows of the processed X to verify the format\n",
    "print(X.head())\n",
    "\n",
    "clf = RandomForestClassifier()\n",
    "clf.fit(X, y)\n"
   ]
  },
  {
   "cell_type": "code",
   "execution_count": null,
   "id": "5675d158",
   "metadata": {
    "id": "5675d158"
   },
   "outputs": [],
   "source": [
    "\n",
    "def predict_disease(symptom_text):\n",
    "    try:\n",
    "        symptom_text = symptom_text.lower()\n",
    "        symptoms = [1 if sym in symptom_text else 0 for sym in X.columns]\n",
    "        return clf.predict([symptoms])[0]\n",
    "    except Exception as e:\n",
    "        return f\"❌ Prediction Error: {str(e)}\"\n"
   ]
  },
  {
   "cell_type": "code",
   "execution_count": null,
   "id": "2211865a",
   "metadata": {
    "id": "2211865a"
   },
   "outputs": [],
   "source": [
    "\n",
    "def treatment_plan(disease, age=30, allergies=\"None\", history=\"None\"):\n",
    "    try:\n",
    "        prompt = (\n",
    "            f\"You are a doctor. Provide a treatment plan for a patient with:\\n\"\n",
    "            f\"- Disease: {disease}\\n\"\n",
    "            f\"- Age: {age if age > 0 else 30}\\n\"\n",
    "            f\"- Allergies: {allergies or 'None'}\\n\"\n",
    "            f\"- Medical History: {history or 'None'}\\n\"\n",
    "            f\"Include medications, lifestyle changes, and follow-ups.\"\n",
    "        )\n",
    "        result = health_bot(prompt, max_new_tokens=300)\n",
    "        return result[0]['generated_text']\n",
    "    except Exception as e:\n",
    "        return f\"❌ Treatment Error: {str(e)}\"\n"
   ]
  },
  {
   "cell_type": "code",
   "execution_count": null,
   "id": "886d3aaa",
   "metadata": {
    "id": "886d3aaa"
   },
   "outputs": [],
   "source": [
    "\n",
    "import plotly.express as px\n",
    "\n",
    "def analytics_dashboard(file_obj):\n",
    "    try:\n",
    "        df = pd.read_csv(file_obj)\n",
    "        fig = px.line(df, x=\"Date\", y=[\"HeartRate\", \"BP_Systolic\", \"BloodSugar\"],\n",
    "                      title=\"📊 Health Analytics Dashboard\",\n",
    "                      labels={\"value\": \"Measurement\", \"variable\": \"Metric\"})\n",
    "        return fig\n",
    "    except Exception as e:\n",
    "        return f\"Error processing file: {str(e)}\"\n"
   ]
  },
  {
   "cell_type": "code",
   "execution_count": null,
   "id": "dafad634",
   "metadata": {
    "colab": {
     "base_uri": "https://localhost:8080/",
     "height": 646
    },
    "id": "dafad634",
    "outputId": "c2f1f4a5-347b-4734-8520-e7c73cb7252a"
   },
   "outputs": [
    {
     "name": "stdout",
     "output_type": "stream",
     "text": [
      "It looks like you are running Gradio on a hosted a Jupyter notebook. For the Gradio app to work, sharing must be enabled. Automatically setting `share=True` (you can turn this off by setting `share=False` in `launch()` explicitly).\n",
      "\n",
      "Colab notebook detected. To show errors in colab notebook, set debug=True in launch()\n",
      "* Running on public URL: https://a809d10a26e8ae416a.gradio.live\n",
      "\n",
      "This share link expires in 1 week. For free permanent hosting and GPU upgrades, run `gradio deploy` from the terminal in the working directory to deploy to Hugging Face Spaces (https://huggingface.co/spaces)\n"
     ]
    },
    {
     "data": {
      "text/html": [
       "<div><iframe src=\"https://a809d10a26e8ae416a.gradio.live\" width=\"100%\" height=\"500\" allow=\"autoplay; camera; microphone; clipboard-read; clipboard-write;\" frameborder=\"0\" allowfullscreen></iframe></div>"
      ],
      "text/plain": [
       "<IPython.core.display.HTML object>"
      ]
     },
     "metadata": {},
     "output_type": "display_data"
    },
    {
     "data": {
      "text/plain": []
     },
     "execution_count": 14,
     "metadata": {},
     "output_type": "execute_result"
    }
   ],
   "source": [
    "\n",
    "import gradio as gr\n",
    "\n",
    "def health_ai(query, symptoms, age, allergies, history):\n",
    "    chat = patient_chat(query)\n",
    "    diagnosis = predict_disease(symptoms)\n",
    "    plan = treatment_plan(diagnosis, age, allergies, history)\n",
    "    return chat, diagnosis, plan\n",
    "\n",
    "with gr.Blocks(title=\"🧠 HealthAI: Intelligent Healthcare Assistant\") as demo:\n",
    "    gr.Markdown(\"# 🧠 HealthAI\")\n",
    "    gr.Markdown(\"Ask health questions, predict diseases, receive treatment plans, and view your health metrics.\")\n",
    "\n",
    "    with gr.Tabs():\n",
    "        with gr.TabItem(\"🧬 Health Assistant\"):\n",
    "            with gr.Row():\n",
    "                query = gr.Textbox(label=\"🗨️ Health Question\")\n",
    "                symptoms = gr.Textbox(label=\"🧬 Symptoms (comma-separated)\")\n",
    "            with gr.Row():\n",
    "                age = gr.Number(label=\"🎂 Age\")\n",
    "                allergies = gr.Textbox(label=\"⚠️ Allergies\")\n",
    "                history = gr.Textbox(label=\"📖 Medical History\")\n",
    "            btn = gr.Button(\"Run HealthAI\")\n",
    "            chat_output = gr.Textbox(label=\"💬 Assistant Response\")\n",
    "            prediction_output = gr.Textbox(label=\"🔍 Predicted Disease\")\n",
    "            plan_output = gr.Textbox(label=\"💊 Treatment Plan\")\n",
    "            btn.click(health_ai, inputs=[query, symptoms, age, allergies, history],\n",
    "                      outputs=[chat_output, prediction_output, plan_output])\n",
    "\n",
    "        with gr.TabItem(\"📈 Health Analytics\"):\n",
    "            file_input = gr.File(label=\"📂 Upload Health Data CSV\", file_types=[\".csv\"])\n",
    "            graph_output = gr.Plot(label=\"📊 Health Trends\")\n",
    "            file_input.change(fn=analytics_dashboard, inputs=file_input, outputs=graph_output)\n",
    "\n",
    "    gr.Markdown(\"⚠️ This tool does not provide medical advice. Always consult a healthcare provider.\")\n",
    "\n",
    "demo.launch()\n"
   ]
  }
 ],
 "metadata": {
  "accelerator": "GPU",
  "colab": {
   "gpuType": "T4",
   "provenance": []
  },
  "kernelspec": {
   "display_name": "Python 3",
   "name": "python3"
  },
  "language_info": {
   "name": "python"
  }
 },
 "nbformat": 4,
 "nbformat_minor": 5
}
